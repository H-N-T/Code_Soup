{
 "cells": [
  {
   "cell_type": "code",
   "execution_count": null,
   "metadata": {},
   "outputs": [],
   "source": [
    "# Simple script to pull predicted structures from the ESM atlas based on a structure search JSON\n",
    "\n",
    "import wget\n",
    "import os\n",
    "import json\n",
    "\n",
    "def download_pdb_files(json_path, download_folder, min_db_len=200, max_db_len=500, min_eval=1e-10):\n",
    "    # Ensure the download folder exists\n",
    "    os.makedirs(download_folder, exist_ok=True)\n",
    "    \n",
    "    # Load JSON data\n",
    "    with open(json_path, 'r') as file:\n",
    "        data = json.load(file)\n",
    "    \n",
    "    # Base URL for downloading structures\n",
    "    base_url = \"https://api.esmatlas.com/fetchPredictedStructure/\"\n",
    "    \n",
    "    # Iterate over each item to extract .pdb filenames and form URLs\n",
    "    for item in data:\n",
    "        for alignment in item.get(\"alignments\", []):\n",
    "            target = alignment.get(\"target\", \"\")\n",
    "            db_len = alignment.get(\"dbLen\", 0)  # Get dbLen, default to 0 if missing\n",
    "            eval_value = alignment.get(\"eval\", 1)  # Get E-value, default to 1 if missing\n",
    "            \n",
    "            # Print statement to verify dbLen and eval values (for debugging)\n",
    "            print(f\"Checking {target}: dbLen = {db_len}, E-value = {eval_value}\")\n",
    "\n",
    "            # Filter by dbLen range and E-value threshold\n",
    "            if min_db_len <= db_len <= max_db_len and eval_value <= min_eval and target.endswith(\".pdb.gz\"):\n",
    "                pdb_id = target.rstrip(\".gz\")  # Strip .gz to get the correct pdb_id\n",
    "                download_url = f\"{base_url}{pdb_id}\"\n",
    "                output_path = os.path.join(download_folder, pdb_id)\n",
    "                \n",
    "                print(f\"Downloading {pdb_id} with dbLen = {db_len} and E-value = {eval_value}...\")\n",
    "                wget.download(download_url, out=output_path)  # Download using Python wget\n",
    "                print(f\"\\nDownloaded {pdb_id} with dbLen = {db_len} and E-value = {eval_value}\")\n",
    "            else:\n",
    "                print(f\"Skipping {target} due to dbLen = {db_len} or E-value = {eval_value} (outside thresholds)\")\n",
    "\n",
    "# Specify paths (edit these as needed)\n",
    "json_path = r\"path_to_input_file.json\"\n",
    "download_folder = r\"path_to_output_folder\"\n",
    "\n",
    "# Specify thresholds for dbLen and E-value\n",
    "min_db_len = 0\n",
    "max_db_len = 1000000\n",
    "min_eval = 1\n",
    "\n",
    "# Run the download function\n",
    "download_pdb_files(json_path, download_folder, min_db_len, max_db_len, min_eval)\n",
    "print(\"\\nDownload completed!\")\n"
   ]
  },
  {
   "cell_type": "code",
   "execution_count": null,
   "metadata": {},
   "outputs": [],
   "source": []
  }
 ],
 "metadata": {
  "kernelspec": {
   "display_name": ".foldseek_venv",
   "language": "python",
   "name": "python3"
  },
  "language_info": {
   "codemirror_mode": {
    "name": "ipython",
    "version": 3
   },
   "file_extension": ".py",
   "mimetype": "text/x-python",
   "name": "python",
   "nbconvert_exporter": "python",
   "pygments_lexer": "ipython3",
   "version": "3.12.7"
  }
 },
 "nbformat": 4,
 "nbformat_minor": 2
}
