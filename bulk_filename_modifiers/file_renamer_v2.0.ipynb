{
 "cells": [
  {
   "cell_type": "code",
   "execution_count": null,
   "metadata": {
    "id": "sJQHUJQWUoHr"
   },
   "outputs": [],
   "source": []
  },
  {
   "cell_type": "markdown",
   "metadata": {
    "id": "KNXXgycM5NJQ"
   },
   "source": [
    "# file_renamer_2.0\n",
    "\n",
    "This notebook is a revamp of the OG file_renamer that allows for a complete rename, as opposed to just removing the order number.\n",
    "\n",
    "It should be used with the spreadsheet below to generate the new filesnames. Once built, sheet 2 needs to be copied into a fresh workbook and saved as a .csv. This then needs to be renamed as a .txt file and copied onto your google drive.\n",
    "\n",
    "Next, move your .ab1 files to a folder on the gDrive, and add the path to the input_folder box, e.g.\n",
    "\n",
    "/content/drive/My Drive/fun_with_code/file_renamer/Lib062/\n",
    "\n",
    "\n",
    "\n",
    "Create a path for your output data - it doesn't have to exist yet e.g.\n",
    "\n",
    "/content/drive/My Drive/fun_with_code/file_renamer/LIB062_output/\n",
    "\n",
    "Now add the path to your csv file, e.g.\n",
    "\n",
    "/content/drive/My Drive/Book4.txt\n",
    "\n",
    "Finally add your column headers, e.g.\n",
    "\n",
    "old_filename and new_filename\n",
    "\n",
    "\n",
    "Click 'Runtime' on the menu bar, and then 'Run all'\n",
    "\n",
    "\n",
    "And awaaaaaay we go!\n",
    "\n",
    "HNT Feb '24\n"
   ]
  },
  {
   "cell_type": "code",
   "execution_count": null,
   "metadata": {
    "id": "V7ghQe9JtW3u"
   },
   "outputs": [],
   "source": [
    "library_name = \"LIB062\" # @param {type:\"string\"}\n",
    "input_folder = \"/content/drive/My Drive/fun_with_code/file_renamer/LIB062_repeat/\" # @param {type:\"string\"}\n",
    "output_folder = \"/content/drive/My Drive/fun_with_code/file_renamer/LIB062_repeat_output/\" # @param {type:\"string\"}\n",
    "csv_file_path = '/content/drive/My Drive/Book4.txt' # @param {type:\"string\"}\n",
    "key_column = 'old_filename' # @param {type:\"string\"}\n",
    "value_column = 'new_filename' # @param {type:\"string\"}"
   ]
  },
  {
   "cell_type": "code",
   "execution_count": null,
   "metadata": {
    "colab": {
     "base_uri": "https://localhost:8080/"
    },
    "executionInfo": {
     "elapsed": 1669,
     "status": "ok",
     "timestamp": 1708600586418,
     "user": {
      "displayName": "Henry Taunt",
      "userId": "07657040803472197154"
     },
     "user_tz": 0
    },
    "id": "djCfR15Nj-dE",
    "outputId": "eaf8ca5f-ca74-4186-972e-fe036f49d2ee"
   },
   "outputs": [],
   "source": [
    "#Mount google drive\n",
    "from google.colab import drive\n",
    "drive.mount('/content/drive')\n"
   ]
  },
  {
   "cell_type": "code",
   "execution_count": null,
   "metadata": {
    "id": "Mk59q1nvkB-q"
   },
   "outputs": [],
   "source": [
    "#Import packages\n",
    "import glob\n",
    "import os\n",
    "import shutil"
   ]
  },
  {
   "cell_type": "code",
   "execution_count": null,
   "metadata": {
    "id": "C7r_YIDgkDrZ"
   },
   "outputs": [],
   "source": [
    "#Generation of list containing .ab1 input sequence files\n",
    "library_name=glob.glob(input_folder + \"/*.ab1\")"
   ]
  },
  {
   "cell_type": "code",
   "execution_count": null,
   "metadata": {
    "id": "dg-6QKvml7-g"
   },
   "outputs": [],
   "source": [
    "#Creation of new folder for the output sequences\n",
    "os.makedirs(output_folder,exist_ok=True)"
   ]
  },
  {
   "cell_type": "code",
   "execution_count": null,
   "metadata": {
    "colab": {
     "base_uri": "https://localhost:8080/"
    },
    "executionInfo": {
     "elapsed": 267,
     "status": "ok",
     "timestamp": 1708601512451,
     "user": {
      "displayName": "Henry Taunt",
      "userId": "07657040803472197154"
     },
     "user_tz": 0
    },
    "id": "CZYG2xhXZD3T",
    "outputId": "c675cbea-06a6-4f80-fe17-dfc205cd6847"
   },
   "outputs": [],
   "source": [
    "\n",
    "import csv\n",
    "\n",
    "def csv_to_lookup_table(csv_file_path, key_column, value_column):\n",
    "    \"\"\"\n",
    "    Converts a CSV file into a lookup table using specified key and value columns.\n",
    "\n",
    "    Args:\n",
    "    - csv_file_path: Path to the CSV file\n",
    "    - key_column: Column index (0-based) or name for the key\n",
    "    - value_column: Column index (0-based) or name for the value\n",
    "\n",
    "    Returns:\n",
    "    - lookup_table: Dictionary representing the lookup table\n",
    "    \"\"\"\n",
    "    lookup_table = {}\n",
    "\n",
    "    with open(csv_file_path, 'r', newline='') as csvfile:\n",
    "        reader = csv.DictReader(csvfile)\n",
    "\n",
    "        for row in reader:\n",
    "            key = input_folder + row[key_column]\n",
    "            value = row[value_column]\n",
    "            lookup_table[key] = value\n",
    "\n",
    "    return lookup_table\n",
    "\n",
    "lookup_table = csv_to_lookup_table(csv_file_path, key_column, value_column)\n",
    "print(lookup_table)"
   ]
  },
  {
   "cell_type": "code",
   "execution_count": null,
   "metadata": {
    "colab": {
     "base_uri": "https://localhost:8080/"
    },
    "executionInfo": {
     "elapsed": 53324,
     "status": "ok",
     "timestamp": 1708601576254,
     "user": {
      "displayName": "Henry Taunt",
      "userId": "07657040803472197154"
     },
     "user_tz": 0
    },
    "id": "Q6K8RYxRc2P7",
    "outputId": "7d96378e-752d-447e-b762-527799a6999a"
   },
   "outputs": [],
   "source": [
    "for file_name in library_name:\n",
    "    # Lookup the new filename from the lookup_table\n",
    "    if file_name in lookup_table:\n",
    "\n",
    "        new_file_name = lookup_table[file_name]\n",
    "\n",
    "        # Create the destination path using the output_folder and the new filename\n",
    "        destination = os.path.join(output_folder, new_file_name)\n",
    "\n",
    "        # Copy the file to the destination folder\n",
    "        shutil.copyfile(file_name, destination)\n",
    "        print(f\"File {file_name} copied to {destination}\")\n",
    "    else:\n",
    "        print(f\"No replacement found for {file_name}\")"
   ]
  }
 ],
 "metadata": {
  "colab": {
   "authorship_tag": "ABX9TyP2CVddwmQTVaNeEaWrOEUP",
   "provenance": [
    {
     "file_id": "1PPVJD3SGw3KOQdlddP5jjkm0GBdxqfsp",
     "timestamp": 1708602039100
    }
   ]
  },
  "kernelspec": {
   "display_name": "Python 3",
   "name": "python3"
  },
  "language_info": {
   "name": "python"
  }
 },
 "nbformat": 4,
 "nbformat_minor": 0
}
