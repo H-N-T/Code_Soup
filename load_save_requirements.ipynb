{
 "cells": [
  {
   "cell_type": "code",
   "execution_count": 1,
   "metadata": {},
   "outputs": [
    {
     "name": "stdout",
     "output_type": "stream",
     "text": [
      "Saved the current virtual environment's packages to requirements.txt\n"
     ]
    }
   ],
   "source": [
    "#save requirements\n",
    "\n",
    "import subprocess\n",
    "\n",
    "# Define the output file\n",
    "output_file = \"requirements.txt\"\n",
    "\n",
    "# Run the pip freeze command and save the output to the requirements.txt file\n",
    "with open(output_file, 'w') as f:\n",
    "    subprocess.run([\"pip\", \"freeze\"], stdout=f)\n",
    "\n",
    "print(f\"Saved the current virtual environment's packages to {output_file}\")\n"
   ]
  },
  {
   "cell_type": "code",
   "execution_count": null,
   "metadata": {},
   "outputs": [],
   "source": [
    "#load requirements\n",
    "\n",
    "import subprocess\n",
    "\n",
    "# Define the path to the requirements.txt file\n",
    "requirements_file = \"requirements.txt\"\n",
    "\n",
    "# Install the packages listed in requirements.txt\n",
    "try:\n",
    "    subprocess.check_call([\"pip\", \"install\", \"-r\", requirements_file])\n",
    "    print(f\"Successfully installed packages from {requirements_file}\")\n",
    "except subprocess.CalledProcessError as e:\n",
    "    print(f\"An error occurred while installing packages: {e}\")\n"
   ]
  }
 ],
 "metadata": {
  "kernelspec": {
   "display_name": "Python 3",
   "language": "python",
   "name": "python3"
  },
  "language_info": {
   "codemirror_mode": {
    "name": "ipython",
    "version": 3
   },
   "file_extension": ".py",
   "mimetype": "text/x-python",
   "name": "python",
   "nbconvert_exporter": "python",
   "pygments_lexer": "ipython3",
   "version": "3.11.9"
  }
 },
 "nbformat": 4,
 "nbformat_minor": 2
}
