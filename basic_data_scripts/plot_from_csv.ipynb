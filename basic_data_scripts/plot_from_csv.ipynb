{
 "cells": [
  {
   "cell_type": "code",
   "execution_count": null,
   "metadata": {},
   "outputs": [],
   "source": [
    "# Short script to plot data from csv\n",
    "\n",
    "import pandas as pd\n",
    "import matplotlib.pyplot as plt\n",
    "\n",
    "# Load the CSV file\n",
    "file_path = r'path_to_input.csv'\n",
    "data = pd.read_csv(file_path)\n",
    "\n",
    "def plot_data(time_unit='Time (hours)', start_time=None, end_time=None):\n",
    "    # Validate the time unit\n",
    "    if time_unit not in data.columns:\n",
    "        raise ValueError(\"Invalid time unit. Choose from 'Time (hours)', 'Time (minutes)', or 'Time (seconds)'.\")\n",
    "\n",
    "    # Filter the data based on the specified range\n",
    "    time = data[time_unit]\n",
    "    data_filtered = data\n",
    "\n",
    "    if start_time is not None:\n",
    "        data_filtered = data_filtered[time >= start_time]\n",
    "\n",
    "    if end_time is not None:\n",
    "        data_filtered = data_filtered[time <= end_time]\n",
    "\n",
    "    # Plot the data\n",
    "    plt.errorbar(data_filtered[time_unit], data_filtered['Mean'], yerr=data_filtered['SD'], fmt='o', ecolor='grey', elinewidth=1, capsize=3)\n",
    "    plt.xlabel(f'Time ({time_unit})')\n",
    "    plt.ylabel('Mean Value')\n",
    "    plt.title('Mean Value over Time with Error Bars')\n",
    "    plt.show()\n",
    "\n",
    "# Example usage\n",
    "plot_data(time_unit='Time (hours)', start_time=0, end_time=72)"
   ]
  }
 ],
 "metadata": {
  "language_info": {
   "name": "python"
  }
 },
 "nbformat": 4,
 "nbformat_minor": 2
}
