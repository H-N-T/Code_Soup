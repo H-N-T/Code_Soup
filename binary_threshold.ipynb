{
 "cells": [
  {
   "cell_type": "code",
   "execution_count": 2,
   "metadata": {},
   "outputs": [
    {
     "name": "stdout",
     "output_type": "stream",
     "text": [
      "Saved C:\\Users\\Henry\\Downloads\\gel_binary\\threshold_0.png\n",
      "Saved C:\\Users\\Henry\\Downloads\\gel_binary\\threshold_15.png\n",
      "Saved C:\\Users\\Henry\\Downloads\\gel_binary\\threshold_30.png\n",
      "Saved C:\\Users\\Henry\\Downloads\\gel_binary\\threshold_45.png\n",
      "Saved C:\\Users\\Henry\\Downloads\\gel_binary\\threshold_60.png\n",
      "Saved C:\\Users\\Henry\\Downloads\\gel_binary\\threshold_75.png\n",
      "Saved C:\\Users\\Henry\\Downloads\\gel_binary\\threshold_90.png\n",
      "Saved C:\\Users\\Henry\\Downloads\\gel_binary\\threshold_105.png\n",
      "Saved C:\\Users\\Henry\\Downloads\\gel_binary\\threshold_120.png\n",
      "Saved C:\\Users\\Henry\\Downloads\\gel_binary\\threshold_135.png\n",
      "Saved C:\\Users\\Henry\\Downloads\\gel_binary\\threshold_150.png\n"
     ]
    }
   ],
   "source": [
    "# A very simple script to take an image file and run a range of binary thresholds\n",
    "# Useful for comparing band intensities from SDS-PAGE, agarose gels, etc.\n",
    "\n",
    "import cv2\n",
    "import os\n",
    "\n",
    "def apply_thresholds(image_path, save_folder, start_threshold=0, end_threshold=150, step=15):\n",
    "    # Create the save folder if it does not exist\n",
    "    if not os.path.exists(save_folder):\n",
    "        os.makedirs(save_folder)\n",
    "\n",
    "    # Load the image\n",
    "    image = cv2.imread(image_path, cv2.IMREAD_GRAYSCALE)\n",
    "    if image is None:\n",
    "        print(\"Error: Could not load image\")\n",
    "        return\n",
    "\n",
    "    # Apply binary thresholding and save images\n",
    "    thresholds = range(start_threshold, end_threshold + step, step)\n",
    "    for i, threshold in enumerate(thresholds):\n",
    "        _, binary_image = cv2.threshold(image, threshold, 255, cv2.THRESH_BINARY)\n",
    "        save_path = os.path.join(save_folder, f'threshold_{threshold}.png')\n",
    "        cv2.imwrite(save_path, binary_image)\n",
    "        print(f'Saved {save_path}')\n",
    "\n",
    "# Example usage\n",
    "image_path = r\"C:\\Users\\Henry\\Downloads\\gel_image.png\"  # Replace with your image path\n",
    "save_folder = r\"C:\\Users\\Henry\\Downloads\\gel_binary\"  # Replace with your save folder\n",
    "apply_thresholds(image_path, save_folder)\n"
   ]
  },
  {
   "cell_type": "code",
   "execution_count": null,
   "metadata": {},
   "outputs": [],
   "source": [
    "# Same code, but with the option for multiple input files\n",
    "\n",
    "\n",
    "import cv2\n",
    "import os\n",
    "\n",
    "def apply_thresholds_to_multiple_files(input_files, save_folder, start_threshold=50, end_threshold=200, step=15):\n",
    "    # Create the save folder if it does not exist\n",
    "    if not os.path.exists(save_folder):\n",
    "        os.makedirs(save_folder)\n",
    "\n",
    "    for image_path in input_files:\n",
    "        # Get the base filename without extension\n",
    "        base_filename = os.path.splitext(os.path.basename(image_path))[0]\n",
    "        subfolder = os.path.join(save_folder, base_filename)\n",
    "        \n",
    "        # Create a subfolder for each image\n",
    "        if not os.path.exists(subfolder):\n",
    "            os.makedirs(subfolder)\n",
    "        \n",
    "        # Load the image\n",
    "        image = cv2.imread(image_path, cv2.IMREAD_GRAYSCALE)\n",
    "        if image is None:\n",
    "            print(f\"Error: Could not load image {image_path}\")\n",
    "            continue\n",
    "        \n",
    "        # Apply binary thresholding and save images\n",
    "        thresholds = range(start_threshold, end_threshold + step, step)\n",
    "        for threshold in thresholds:\n",
    "            _, binary_image = cv2.threshold(image, threshold, 255, cv2.THRESH_BINARY)\n",
    "            save_path = os.path.join(subfolder, f'threshold_{threshold}.png')\n",
    "            cv2.imwrite(save_path, binary_image)\n",
    "            print(f'Saved {save_path}')\n",
    "\n",
    "# Example usage\n",
    "input_files = [\n",
    "    'path_to_your_first_image.jpg',  # Replace with your first image path\n",
    "    'path_to_your_second_image.jpg', # Replace with your second image path\n",
    "    # Add more image paths as needed\n",
    "]\n",
    "save_folder = 'path_to_save_folder'  # Replace with your save folder\n",
    "apply_thresholds_to_multiple_files(input_files, save_folder)\n"
   ]
  }
 ],
 "metadata": {
  "kernelspec": {
   "display_name": "Python 3",
   "language": "python",
   "name": "python3"
  },
  "language_info": {
   "codemirror_mode": {
    "name": "ipython",
    "version": 3
   },
   "file_extension": ".py",
   "mimetype": "text/x-python",
   "name": "python",
   "nbconvert_exporter": "python",
   "pygments_lexer": "ipython3",
   "version": "3.11.9"
  }
 },
 "nbformat": 4,
 "nbformat_minor": 2
}
