{
 "cells": [
  {
   "cell_type": "code",
   "execution_count": null,
   "metadata": {
    "colab": {
     "base_uri": "https://localhost:8080/",
     "height": 73
    },
    "executionInfo": {
     "elapsed": 26978,
     "status": "ok",
     "timestamp": 1720533800128,
     "user": {
      "displayName": "Henry Taunt",
      "userId": "07657040803472197154"
     },
     "user_tz": -60
    },
    "id": "jDWo0XEHyVOW",
    "outputId": "8468b2d7-4567-4f04-e7f9-ea21badf849c"
   },
   "outputs": [],
   "source": [
    "import cv2\n",
    "import os\n",
    "import zipfile\n",
    "from google.colab import files\n",
    "\n",
    "# Upload the video files\n",
    "uploaded = files.upload()\n",
    "\n",
    "# Process each uploaded file\n",
    "for video_path in uploaded.keys():\n",
    "    base_filename = os.path.splitext(video_path)[0]\n",
    "\n",
    "    # Create a directory to store frames for this video\n",
    "    frames_dir = f'frames_{base_filename}'\n",
    "    os.makedirs(frames_dir, exist_ok=True)\n",
    "\n",
    "    # Open the video file\n",
    "    cap = cv2.VideoCapture(video_path)\n",
    "\n",
    "    # Check if video opened successfully\n",
    "    if not cap.isOpened():\n",
    "        print(f\"Error: Could not open video {video_path}.\")\n",
    "        continue\n",
    "    else:\n",
    "        frame_count = 0\n",
    "        saved_frame_count = 0\n",
    "\n",
    "        while True:\n",
    "            ret, frame = cap.read()\n",
    "\n",
    "            if not ret:\n",
    "                break\n",
    "\n",
    "            # Save every 30th frame\n",
    "            if frame_count % 30 == 0:\n",
    "                frame_path = os.path.join(frames_dir, f'frame_{saved_frame_count:04d}.jpg')\n",
    "                cv2.imwrite(frame_path, frame)\n",
    "                saved_frame_count += 1\n",
    "\n",
    "            frame_count += 1\n",
    "\n",
    "        cap.release()\n",
    "\n",
    "    # Zip the frames directory using the base file name\n",
    "    zip_filename = f'{base_filename}_frames.zip'\n",
    "    with zipfile.ZipFile(zip_filename, 'w') as zipf:\n",
    "        for root, dirs, files_in_dir in os.walk(frames_dir): # Change 'files' to 'files_in_dir'\n",
    "            for file in files_in_dir:\n",
    "                zipf.write(os.path.join(root, file),\n",
    "                           os.path.relpath(os.path.join(root, file),\n",
    "                                           os.path.join(frames_dir, '..')))\n",
    "\n",
    "    # Clean up frames directory\n",
    "    for file in os.listdir(frames_dir):\n",
    "        os.remove(os.path.join(frames_dir, file))\n",
    "    os.rmdir(frames_dir)\n",
    "\n",
    "    # Download the zip file\n",
    "    files.download(zip_filename) # Use the original 'files' object for download"
   ]
  }
 ],
 "metadata": {
  "colab": {
   "provenance": []
  },
  "kernelspec": {
   "display_name": "Python 3",
   "name": "python3"
  },
  "language_info": {
   "name": "python"
  }
 },
 "nbformat": 4,
 "nbformat_minor": 0
}
