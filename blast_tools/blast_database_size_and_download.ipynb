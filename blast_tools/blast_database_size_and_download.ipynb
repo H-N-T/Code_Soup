{
 "cells": [
  {
   "cell_type": "code",
   "execution_count": null,
   "id": "3556b0a9-8e7e-43aa-87d1-1136f824c3c2",
   "metadata": {},
   "outputs": [],
   "source": [
    "import ftplib\n",
    "import os\n",
    "\n",
    "def get_blastp_database_size(ftp_server, ftp_path):\n",
    "    # Connect to the FTP server\n",
    "    ftp = ftplib.FTP(ftp_server)\n",
    "    ftp.login()\n",
    "    ftp.cwd(ftp_path)\n",
    "\n",
    "    # List files with detailed information\n",
    "    entries = []\n",
    "    try:\n",
    "        ftp.retrlines('MLSD', entries.append)\n",
    "    except ftplib.error_perm as e:\n",
    "        print(f\"Could not retrieve directory listing: {e}\")\n",
    "        ftp.quit()\n",
    "        return\n",
    "\n",
    "    total_size = 0\n",
    "    file_sizes = {}\n",
    "\n",
    "    for entry in entries:\n",
    "        parts = entry.split(';')\n",
    "        name_part = parts[-1].strip()\n",
    "        size_part = [p for p in parts if p.startswith('size=')]\n",
    "        \n",
    "        if size_part and name_part.startswith('nr'):\n",
    "            size = int(size_part[0].split('=')[1])\n",
    "            total_size += size\n",
    "            file_sizes[name_part] = size\n",
    "\n",
    "    # Close the FTP connection\n",
    "    ftp.quit()\n",
    "\n",
    "    # Print the sizes\n",
    "    for file, size in file_sizes.items():\n",
    "        print(f'{file}: {size / (1024 ** 2):.2f} MB')\n",
    "    print(f'Total size: {total_size / (1024 ** 3):.2f} GB')\n",
    "\n",
    "# Parameters\n",
    "ftp_server = 'ftp.ncbi.nlm.nih.gov'\n",
    "ftp_path = '/blast/db/'\n",
    "\n",
    "# Call the function to get the database size\n",
    "get_blastp_database_size(ftp_server, ftp_path)\n"
   ]
  },
  {
   "cell_type": "code",
   "execution_count": null,
   "id": "88fade3b-7fdf-4dec-814c-7ffcbe841ff3",
   "metadata": {},
   "outputs": [],
   "source": []
  }
 ],
 "metadata": {
  "kernelspec": {
   "display_name": "Python 3 (ipykernel)",
   "language": "python",
   "name": "python3"
  },
  "language_info": {
   "codemirror_mode": {
    "name": "ipython",
    "version": 3
   },
   "file_extension": ".py",
   "mimetype": "text/x-python",
   "name": "python",
   "nbconvert_exporter": "python",
   "pygments_lexer": "ipython3",
   "version": "3.11.7"
  }
 },
 "nbformat": 4,
 "nbformat_minor": 5
}
